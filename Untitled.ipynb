{
 "cells": [
  {
   "cell_type": "markdown",
   "metadata": {},
   "source": [
    "Условие: Задача состоит в модификации кода градиентного спуска для задачи регрессии (ноутбук лекции - Gradient_descent.ipynb). Необходимо, чтобы ваш градиентный спуск мог решать задачи классификации, а именно линейной классификации и логистической регрессии.\n",
    "На всякий случай напомню, что код будет разный, поэтому жду от вас две функции градиентного спуска.\n",
    "Решение задачи можете найти в этой статье - https://dyakonov.org/2018/03/12/логистическая-функция-ошибки/. Там указан необходимый лосс и градиент\""
   ]
  },
  {
   "cell_type": "code",
   "execution_count": 129,
   "metadata": {},
   "outputs": [],
   "source": [
    "import numpy as np\n",
    "import random\n",
    "from sklearn.datasets.samples_generator import make_regression \n",
    "import pylab\n",
    "from scipy import stats\n",
    "import pandas as pd\n",
    "\n",
    "import seaborn as sns\n",
    "import matplotlib.pyplot as plt\n",
    "\n",
    "from sklearn.linear_model import LinearRegression"
   ]
  },
  {
   "cell_type": "markdown",
   "metadata": {},
   "source": [
    "датасет линейнной регрессии"
   ]
  },
  {
   "cell_type": "code",
   "execution_count": 130,
   "metadata": {},
   "outputs": [
    {
     "data": {
      "text/html": [
       "<div>\n",
       "<style scoped>\n",
       "    .dataframe tbody tr th:only-of-type {\n",
       "        vertical-align: middle;\n",
       "    }\n",
       "\n",
       "    .dataframe tbody tr th {\n",
       "        vertical-align: top;\n",
       "    }\n",
       "\n",
       "    .dataframe thead th {\n",
       "        text-align: right;\n",
       "    }\n",
       "</style>\n",
       "<table border=\"1\" class=\"dataframe\">\n",
       "  <thead>\n",
       "    <tr style=\"text-align: right;\">\n",
       "      <th></th>\n",
       "      <th>avg_speed</th>\n",
       "      <th>chance_of_accident</th>\n",
       "    </tr>\n",
       "  </thead>\n",
       "  <tbody>\n",
       "    <tr>\n",
       "      <td>0</td>\n",
       "      <td>163.5</td>\n",
       "      <td>72.0</td>\n",
       "    </tr>\n",
       "    <tr>\n",
       "      <td>1</td>\n",
       "      <td>47.6</td>\n",
       "      <td>35.0</td>\n",
       "    </tr>\n",
       "    <tr>\n",
       "      <td>2</td>\n",
       "      <td>51.3</td>\n",
       "      <td>29.0</td>\n",
       "    </tr>\n",
       "    <tr>\n",
       "      <td>3</td>\n",
       "      <td>166.1</td>\n",
       "      <td>76.5</td>\n",
       "    </tr>\n",
       "    <tr>\n",
       "      <td>4</td>\n",
       "      <td>268.6</td>\n",
       "      <td>132.5</td>\n",
       "    </tr>\n",
       "    <tr>\n",
       "      <td>5</td>\n",
       "      <td>79.3</td>\n",
       "      <td>42.5</td>\n",
       "    </tr>\n",
       "  </tbody>\n",
       "</table>\n",
       "</div>"
      ],
      "text/plain": [
       "   avg_speed  chance_of_accident\n",
       "0      163.5                72.0\n",
       "1       47.6                35.0\n",
       "2       51.3                29.0\n",
       "3      166.1                76.5\n",
       "4      268.6               132.5\n",
       "5       79.3                42.5"
      ]
     },
     "execution_count": 130,
     "metadata": {},
     "output_type": "execute_result"
    }
   ],
   "source": [
    "n_samples = 100\n",
    "\n",
    "avg_speed = np.random.choice(271, n_samples) + 30\n",
    "chance_of_accident = (avg_speed)*0.5\n",
    "random= np.random.choice(500, n_samples)-250\n",
    "\n",
    "data = pd.DataFrame({'avg_speed': avg_speed+random*0.1, 'chance_of_accident': chance_of_accident})\n",
    "data.head(6)"
   ]
  },
  {
   "cell_type": "code",
   "execution_count": 95,
   "metadata": {},
   "outputs": [
    {
     "data": {
      "text/plain": [
       "<seaborn.axisgrid.JointGrid at 0x1a218d7350>"
      ]
     },
     "execution_count": 95,
     "metadata": {},
     "output_type": "execute_result"
    },
    {
     "data": {
      "image/png": "[encoded data removed]",
      "text/plain": [
       "<Figure size 432x432 with 3 Axes>"
      ]
     },
     "metadata": {
      "needs_background": "light"
     },
     "output_type": "display_data"
    }
   ],
   "source": [
    "sns.jointplot(x='avg_speed',y='chance_of_accident', data=data)"
   ]
  },
  {
   "cell_type": "markdown",
   "metadata": {},
   "source": [
    "датасеет линейной классификации"
   ]
  },
  {
   "cell_type": "code",
   "execution_count": 27,
   "metadata": {},
   "outputs": [],
   "source": [
    "data_class = data\n",
    "data_class['chance']= data_class['chance_of_accident'].apply(lambda x: 1 if x > 110 else 0)"
   ]
  },
  {
   "cell_type": "code",
   "execution_count": 31,
   "metadata": {},
   "outputs": [],
   "source": [
    "data_class.drop(['chance_of_accident'], axis=1, inplace=True)"
   ]
  },
  {
   "cell_type": "code",
   "execution_count": 33,
   "metadata": {},
   "outputs": [
    {
     "data": {
      "text/html": [
       "<div>\n",
       "<style scoped>\n",
       "    .dataframe tbody tr th:only-of-type {\n",
       "        vertical-align: middle;\n",
       "    }\n",
       "\n",
       "    .dataframe tbody tr th {\n",
       "        vertical-align: top;\n",
       "    }\n",
       "\n",
       "    .dataframe thead th {\n",
       "        text-align: right;\n",
       "    }\n",
       "</style>\n",
       "<table border=\"1\" class=\"dataframe\">\n",
       "  <thead>\n",
       "    <tr style=\"text-align: right;\">\n",
       "      <th></th>\n",
       "      <th>avg_speed</th>\n",
       "      <th>chance</th>\n",
       "    </tr>\n",
       "  </thead>\n",
       "  <tbody>\n",
       "    <tr>\n",
       "      <td>0</td>\n",
       "      <td>146.0</td>\n",
       "      <td>0</td>\n",
       "    </tr>\n",
       "    <tr>\n",
       "      <td>1</td>\n",
       "      <td>144.4</td>\n",
       "      <td>0</td>\n",
       "    </tr>\n",
       "    <tr>\n",
       "      <td>2</td>\n",
       "      <td>173.5</td>\n",
       "      <td>0</td>\n",
       "    </tr>\n",
       "    <tr>\n",
       "      <td>3</td>\n",
       "      <td>82.6</td>\n",
       "      <td>0</td>\n",
       "    </tr>\n",
       "    <tr>\n",
       "      <td>4</td>\n",
       "      <td>241.7</td>\n",
       "      <td>1</td>\n",
       "    </tr>\n",
       "  </tbody>\n",
       "</table>\n",
       "</div>"
      ],
      "text/plain": [
       "   avg_speed  chance\n",
       "0      146.0       0\n",
       "1      144.4       0\n",
       "2      173.5       0\n",
       "3       82.6       0\n",
       "4      241.7       1"
      ]
     },
     "execution_count": 33,
     "metadata": {},
     "output_type": "execute_result"
    }
   ],
   "source": [
    "data_class.head()"
   ]
  },
  {
   "cell_type": "code",
   "execution_count": 34,
   "metadata": {},
   "outputs": [
    {
     "data": {
      "text/plain": [
       "<seaborn.axisgrid.JointGrid at 0x1a2142ea90>"
      ]
     },
     "execution_count": 34,
     "metadata": {},
     "output_type": "execute_result"
    },
    {
     "data": {
      "image/png": "[encoded data removed]",
      "text/plain": [
       "<Figure size 432x432 with 3 Axes>"
      ]
     },
     "metadata": {
      "needs_background": "light"
     },
     "output_type": "display_data"
    }
   ],
   "source": [
    "sns.jointplot(x='avg_speed',y='chance', data=data_class)"
   ]
  },
  {
   "cell_type": "code",
   "execution_count": 131,
   "metadata": {},
   "outputs": [
    {
     "data": {
      "text/plain": [
       "array([[163.5],\n",
       "       [ 47.6],\n",
       "       [ 51.3],\n",
       "       [166.1],\n",
       "       [268.6]])"
      ]
     },
     "execution_count": 131,
     "metadata": {},
     "output_type": "execute_result"
    }
   ],
   "source": [
    "x = data[['avg_speed']]\n",
    "x = x.to_numpy()\n",
    "\n",
    "y = data['chance_of_accident']\n",
    "y=y.to_list()\n",
    "x[:5]"
   ]
  },
  {
   "cell_type": "code",
   "execution_count": 132,
   "metadata": {},
   "outputs": [],
   "source": [
    "y=np.array(y)"
   ]
  },
  {
   "cell_type": "code",
   "execution_count": 133,
   "metadata": {},
   "outputs": [
    {
     "data": {
      "text/plain": [
       "(100, 1)"
      ]
     },
     "execution_count": 133,
     "metadata": {},
     "output_type": "execute_result"
    }
   ],
   "source": [
    "m, n = np.shape(x)\n",
    "m, n"
   ]
  },
  {
   "cell_type": "code",
   "execution_count": 134,
   "metadata": {},
   "outputs": [
    {
     "data": {
      "text/plain": [
       "array([[  1. , 163.5],\n",
       "       [  1. ,  47.6],\n",
       "       [  1. ,  51.3],\n",
       "       [  1. , 166.1],\n",
       "       [  1. , 268.6]])"
      ]
     },
     "execution_count": 134,
     "metadata": {},
     "output_type": "execute_result"
    }
   ],
   "source": [
    "x = np.c_[np.ones(m), x]\n",
    "x[:5]"
   ]
  },
  {
   "cell_type": "code",
   "execution_count": 135,
   "metadata": {},
   "outputs": [
    {
     "data": {
      "text/plain": [
       "array([ 72. ,  35. ,  29. ,  76.5, 132.5])"
      ]
     },
     "execution_count": 135,
     "metadata": {},
     "output_type": "execute_result"
    }
   ],
   "source": [
    "y[:5]"
   ]
  },
  {
   "cell_type": "code",
   "execution_count": 199,
   "metadata": {},
   "outputs": [],
   "source": [
    "alpha = 0.00001"
   ]
  },
  {
   "cell_type": "code",
   "execution_count": 200,
   "metadata": {},
   "outputs": [],
   "source": [
    "def gradient_descent_5(alpha, x, y, numIterations):\n",
    "    \"\"\"\n",
    "    Функция реализует алгоритм градиентного спуска. На каждом шаге выводится значение функции потерь\n",
    "    \"\"\"\n",
    "    \n",
    "    m = x.shape[0] # 100\n",
    "    theta = np.ones(2) # [ 1.  1.] ВЕСА МОДЕЛИ!!!\n",
    "    x_transpose = x.transpose() # транспонированная матрица x\n",
    "    \n",
    "    for iter in range( 0, numIterations ):\n",
    "        hypothesis = np.dot(x, theta) # матричное произведение\n",
    "        \n",
    "        loss = hypothesis - y\n",
    "        J = np.sum(loss ** 2) / (2 * m)  # функция потерь\n",
    "        \n",
    "        print( \"iter %s | J: %.3f\" % (iter, J), np.sum(loss))\n",
    "        \n",
    "        gradient = np.dot(x_transpose, loss) / (m)         \n",
    "        theta = theta - alpha * gradient  # update\n",
    "    \n",
    "    return theta"
   ]
  },
  {
   "cell_type": "code",
   "execution_count": 201,
   "metadata": {},
   "outputs": [
    {
     "name": "stdout",
     "output_type": "stream",
     "text": [
      "iter 0 | J: 3913.929 7959.9\n",
      "iter 1 | J: 1925.356 5562.206747055602\n",
      "iter 2 | J: 953.479 3885.99701679762\n",
      "iter 3 | J: 478.493 2714.1711157800864\n",
      "iter 4 | J: 246.353 1894.9562435660887\n",
      "iter 5 | J: 132.899 1322.2491505985467\n",
      "iter 6 | J: 77.451 921.8738347600619\n",
      "iter 7 | J: 50.352 641.9743980165185\n",
      "iter 8 | J: 37.107 446.2987630900278\n",
      "iter 9 | J: 30.634 309.50336913632214\n",
      "iter 10 | J: 27.471 213.870718993959\n",
      "iter 11 | J: 25.925 147.01464058576082\n",
      "iter 12 | J: 25.169 100.27605202631398\n",
      "iter 13 | J: 24.800 67.60145279656197\n",
      "iter 14 | J: 24.619 44.75888516482864\n",
      "iter 15 | J: 24.531 28.789818577374152\n",
      "iter 16 | J: 24.488 17.62596606339885\n",
      "iter 17 | J: 24.467 9.821403399414386\n",
      "iter 18 | J: 24.457 4.365295585446184\n",
      "iter 19 | J: 24.452 0.5509753006420084\n",
      "iter 20 | J: 24.449 -2.1155833864069606\n",
      "iter 21 | J: 24.448 -3.979750374239586\n",
      "iter 22 | J: 24.447 -5.28297122114121\n",
      "iter 23 | J: 24.447 -6.194038742767624\n",
      "iter 24 | J: 24.447 -6.83095475624841\n",
      "iter 25 | J: 24.447 -7.276213464861712\n",
      "iter 26 | J: 24.447 -7.5874859599507545\n",
      "iter 27 | J: 24.447 -7.805089677707397\n",
      "iter 28 | J: 24.447 -7.957210241516378\n",
      "iter 29 | J: 24.447 -8.063552013580573\n",
      "iter 30 | J: 24.447 -8.13789016872953\n",
      "iter 31 | J: 24.447 -8.18985483046129\n",
      "iter 32 | J: 24.447 -8.22617834735642\n",
      "iter 33 | J: 24.447 -8.25156725483572\n",
      "iter 34 | J: 24.447 -8.26931185722794\n",
      "iter 35 | J: 24.447 -8.281712382113273\n",
      "iter 36 | J: 24.447 -8.290376901689523\n",
      "iter 37 | J: 24.447 -8.296429607416247\n",
      "iter 38 | J: 24.447 -8.300656413279508\n",
      "iter 39 | J: 24.447 -8.303606745973529\n",
      "iter 40 | J: 24.447 -8.305664705663013\n",
      "iter 41 | J: 24.447 -8.307098813950883\n",
      "iter 42 | J: 24.447 -8.308096792317208\n",
      "iter 43 | J: 24.447 -8.30878987546691\n",
      "iter 44 | J: 24.447 -8.309269808620634\n",
      "iter 45 | J: 24.447 -8.309600730186137\n",
      "iter 46 | J: 24.447 -8.309827478854661\n",
      "iter 47 | J: 24.447 -8.309981401023656\n",
      "iter 48 | J: 24.447 -8.310084410731363\n",
      "iter 49 | J: 24.447 -8.310151827919345\n",
      "iter 50 | J: 24.447 -8.310194362646964\n",
      "iter 51 | J: 24.447 -8.310219502238176\n",
      "iter 52 | J: 24.447 -8.310232481025974\n",
      "iter 53 | J: 24.447 -8.310236958292876\n",
      "iter 54 | J: 24.447 -8.310235492218418\n",
      "iter 55 | J: 24.447 -8.310229871205053\n",
      "iter 56 | J: 24.447 -8.310221345513401\n",
      "iter 57 | J: 24.447 -8.310210789191292\n",
      "iter 58 | J: 24.447 -8.310198813278387\n",
      "iter 59 | J: 24.447 -8.310185844947934\n",
      "iter 60 | J: 24.447 -8.310172182835387\n",
      "iter 61 | J: 24.447 -8.310158035712288\n",
      "iter 62 | J: 24.447 -8.310143549531432\n",
      "iter 63 | J: 24.447 -8.310128826325432\n",
      "iter 64 | J: 24.447 -8.310113937425289\n",
      "iter 65 | J: 24.447 -8.31009893269865\n",
      "iter 66 | J: 24.447 -8.310083847006226\n",
      "iter 67 | J: 24.447 -8.310068704719953\n",
      "iter 68 | J: 24.447 -8.310053522878029\n",
      "iter 69 | J: 24.447 -8.310038313390887\n",
      "iter 70 | J: 24.447 -8.310023084586774\n",
      "iter 71 | J: 24.447 -8.310007842285891\n",
      "iter 72 | J: 24.447 -8.309992590557474\n",
      "iter 73 | J: 24.447 -8.30997733224702\n",
      "iter 74 | J: 24.447 -8.309962069345122\n",
      "iter 75 | J: 24.447 -8.309946803240148\n",
      "iter 76 | J: 24.447 -8.309931534904756\n",
      "iter 77 | J: 24.447 -8.309916265019076\n",
      "iter 78 | J: 24.447 -8.309900994057955\n",
      "iter 79 | J: 24.447 -8.309885722352291\n",
      "iter 80 | J: 24.447 -8.309870450135843\n",
      "iter 81 | J: 24.447 -8.309855177569691\n",
      "iter 82 | J: 24.447 -8.309839904769003\n",
      "iter 83 | J: 24.447 -8.309824631810788\n",
      "iter 84 | J: 24.447 -8.30980935875235\n",
      "iter 85 | J: 24.447 -8.309794085632632\n",
      "iter 86 | J: 24.447 -8.309778812477802\n",
      "iter 87 | J: 24.447 -8.309763539306822\n",
      "iter 88 | J: 24.447 -8.30974826613253\n",
      "iter 89 | J: 24.447 -8.309732992965458\n",
      "iter 90 | J: 24.447 -8.309717719811854\n",
      "iter 91 | J: 24.447 -8.309702446675018\n",
      "iter 92 | J: 24.447 -8.309687173558434\n",
      "iter 93 | J: 24.447 -8.30967190046545\n",
      "iter 94 | J: 24.447 -8.309656627396773\n",
      "iter 95 | J: 24.447 -8.309641354354095\n",
      "iter 96 | J: 24.447 -8.309626081337132\n",
      "iter 97 | J: 24.447 -8.309610808347816\n",
      "iter 98 | J: 24.447 -8.309595535385153\n",
      "iter 99 | J: 24.447 -8.309580262449519\n",
      "CPU times: user 31.5 ms, sys: 12.1 ms, total: 43.6 ms\n",
      "Wall time: 36.1 ms\n"
     ]
    }
   ],
   "source": [
    "%%time\n",
    "theta = gradient_descent_5(alpha, x, y, 100)"
   ]
  },
  {
   "cell_type": "code",
   "execution_count": 139,
   "metadata": {},
   "outputs": [
    {
     "data": {
      "image/png": "[encoded data removed]",
      "text/plain": [
       "<Figure size 432x288 with 1 Axes>"
      ]
     },
     "metadata": {
      "needs_background": "light"
     },
     "output_type": "display_data"
    }
   ],
   "source": [
    "pylab.plot(x[:,1],y,'o')\n",
    "pylab.show()"
   ]
  },
  {
   "cell_type": "code",
   "execution_count": 140,
   "metadata": {},
   "outputs": [
    {
     "data": {
      "text/plain": [
       "array([ 72. ,  35. ,  29. ,  76.5, 132.5])"
      ]
     },
     "execution_count": 140,
     "metadata": {},
     "output_type": "execute_result"
    }
   ],
   "source": [
    "y[:5]"
   ]
  },
  {
   "cell_type": "code",
   "execution_count": 186,
   "metadata": {},
   "outputs": [
    {
     "data": {
      "image/png": "[encoded data removed]",
      "text/plain": [
       "<Figure size 432x288 with 1 Axes>"
      ]
     },
     "metadata": {
      "needs_background": "light"
     },
     "output_type": "display_data"
    }
   ],
   "source": [
    "for i in range(x.shape[1]):\n",
    "    y_predict = theta[0] + theta[1]*x \n",
    "    \n",
    "# рисуем результат\n",
    "pylab.plot(x[:,1],y,'o')\n",
    "pylab.plot(x,y_predict,'k-')\n",
    "pylab.show()"
   ]
  }
 ],
 "metadata": {
  "kernelspec": {
   "display_name": "Python 3",
   "language": "python",
   "name": "python3"
  },
  "language_info": {
   "codemirror_mode": {
    "name": "ipython",
    "version": 3
   },
   "file_extension": ".py",
   "mimetype": "text/x-python",
   "name": "python",
   "nbconvert_exporter": "python",
   "pygments_lexer": "ipython3",
   "version": "3.7.4"
  }
 },
 "nbformat": 4,
 "nbformat_minor": 4
}
